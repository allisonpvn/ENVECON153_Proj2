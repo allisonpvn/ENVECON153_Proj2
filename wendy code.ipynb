{
 "cells": [
  {
   "cell_type": "code",
   "execution_count": null,
   "id": "d7390f15-b399-4b5d-9a1a-6631b027eae7",
   "metadata": {},
   "outputs": [],
   "source": []
  },
  {
   "cell_type": "markdown",
   "id": "c0bf02cf-d58d-4fc4-baa6-350323668e09",
   "metadata": {},
   "source": [
    "# **Project 2 Code and Visualizations**"
   ]
  },
  {
   "cell_type": "markdown",
   "id": "94ad1faa-340a-4b92-b246-8fec90bcb69f",
   "metadata": {},
   "source": [
    " The following code provides the workflow, functions, analysis, and insights into Project 2 for group Justus von Liebig\n",
    "\n",
    "Project Members: Allison Nguyen, Emily Wu, Wendy Peng, ______________"
   ]
  },
  {
   "cell_type": "markdown",
   "id": "00a5d4a5-49e3-4e01-8c17-661c37426d87",
   "metadata": {},
   "source": [
    "# Table of Contents\n",
    "\n",
    "- **Data Setup**\n",
    "\n",
    "- **Deliverable [A] - Population of Interest**\n",
    "\n",
    "- **Deliverable [A] - Dietary Reference Intakes**\n",
    "\n",
    "- **Deliverable [A] - Food Prices**\n",
    "\n",
    "- **Deliverable [A] - Nutritional Content**\n",
    "\n",
    "- **Deliverable [A] - Solution**\n",
    "\n",
    "- **Deliverable [B] - Solution Sensitivity**\n",
    "\n",
    "- **Deliverable [B] - Solution Total Cost**\n",
    "\n",
    "- **Unit Tests**"
   ]
  },
  {
   "cell_type": "markdown",
   "id": "23490355-676d-4c8c-86c8-33c806e7315f",
   "metadata": {},
   "source": [
    "## Data Setup"
   ]
  },
  {
   "cell_type": "code",
   "execution_count": 2,
   "id": "7968e0ab-d72b-4d2b-b09e-389236116c81",
   "metadata": {},
   "outputs": [],
   "source": [
    "import numpy as np\n",
    "import pandas as pd"
   ]
  },
  {
   "cell_type": "code",
   "execution_count": null,
   "id": "403d6e37-44e5-488c-9772-30e783684ff2",
   "metadata": {},
   "outputs": [],
   "source": []
  },
  {
   "cell_type": "code",
   "execution_count": null,
   "id": "3cb4f310-418c-4aff-a681-ab3faeece396",
   "metadata": {},
   "outputs": [],
   "source": [
    "#hello"
   ]
  }
 ],
 "metadata": {
  "kernelspec": {
   "display_name": "Python 3 (ipykernel)",
   "language": "python",
   "name": "python3"
  },
  "language_info": {
   "codemirror_mode": {
    "name": "ipython",
    "version": 3
   },
   "file_extension": ".py",
   "mimetype": "text/x-python",
   "name": "python",
   "nbconvert_exporter": "python",
   "pygments_lexer": "ipython3",
   "version": "3.11.11"
  }
 },
 "nbformat": 4,
 "nbformat_minor": 5
}
