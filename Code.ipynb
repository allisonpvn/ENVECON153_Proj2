{
 "cells": [
  {
   "cell_type": "markdown",
   "id": "1cd11c6b-d8ef-4554-8387-d9673bdd973f",
   "metadata": {},
   "source": [
    "# **Project 2 Code and Visualizations**"
   ]
  },
  {
   "cell_type": "markdown",
   "id": "1c4b6758-c473-4e44-a33e-96385f941117",
   "metadata": {},
   "source": [
    " The following code provides the workflow, functions, analysis, and insights into Project 2 for group Justus von Liebig\n",
    "\n",
    "Project Members: Allison Nguyen, Emily Wu, Wendy Peng, ______________"
   ]
  },
  {
   "cell_type": "code",
   "execution_count": null,
   "id": "2542a209-4f1e-4212-9478-f77c28f9beae",
   "metadata": {},
   "outputs": [],
   "source": []
  }
 ],
 "metadata": {
  "kernelspec": {
   "display_name": "Python 3 (ipykernel)",
   "language": "python",
   "name": "python3"
  },
  "language_info": {
   "codemirror_mode": {
    "name": "ipython",
    "version": 3
   },
   "file_extension": ".py",
   "mimetype": "text/x-python",
   "name": "python",
   "nbconvert_exporter": "python",
   "pygments_lexer": "ipython3",
   "version": "3.11.11"
  }
 },
 "nbformat": 4,
 "nbformat_minor": 5
}
