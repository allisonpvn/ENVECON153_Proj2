{
 "cells": [
  {
   "cell_type": "markdown",
   "id": "1cd11c6b-d8ef-4554-8387-d9673bdd973f",
   "metadata": {},
   "source": [
    "# **Project 2 Code and Visualizations**"
   ]
  },
  {
   "cell_type": "markdown",
   "id": "1c4b6758-c473-4e44-a33e-96385f941117",
   "metadata": {},
   "source": [
    " The following code provides the workflow, functions, analysis, and insights into Project 2 for group Justus von Liebig\n",
    "\n",
    "Project Members: Allison Nguyen, Emily Wu, Wendy Peng, ______________"
   ]
  },
  {
   "cell_type": "markdown",
   "id": "c91a8ea7-9b27-41c8-a8c2-62136a9312cb",
   "metadata": {},
   "source": [
    "# Table of Contents\n",
    "\n",
    "- **Data Setup**\n",
    "\n",
    "- **Deliverable [A] - Population of Interest**\n",
    "\n",
    "- **Deliverable [A] - Dietary Reference Intakes**\n",
    "\n",
    "- **Deliverable [A] - Food Prices**\n",
    "\n",
    "- **Deliverable [A] - Nutritional Content**\n",
    "\n",
    "- **Deliverable [A] - Solution**\n",
    "\n",
    "- **Deliverable [B] - Solution Sensitivity**\n",
    "\n",
    "- **Deliverable [B] - Solution Total Cost**\n",
    "\n",
    "- **Unit Tests**"
   ]
  },
  {
   "cell_type": "markdown",
   "id": "4669cfa9-470a-4ca9-9afd-f8635d255ee7",
   "metadata": {},
   "source": [
    "## Data Setup"
   ]
  },
  {
   "cell_type": "code",
   "execution_count": 2,
   "id": "c390e869-ce89-4fab-94e6-d04f802ecb2a",
   "metadata": {},
   "outputs": [],
   "source": [
    "import numpy as np\n",
    "import pandas as pd"
   ]
  },
  {
   "cell_type": "code",
   "execution_count": null,
   "id": "3148a222-b217-4f5e-b61a-05d24631d593",
   "metadata": {},
   "outputs": [],
   "source": []
  },
  {
   "cell_type": "code",
   "execution_count": null,
   "id": "4128d1c0-2978-4282-9ed9-e67446aea45e",
   "metadata": {},
   "outputs": [],
   "source": [
    "#hello"
   ]
  }
 ],
 "metadata": {
  "kernelspec": {
   "display_name": "Python 3 (ipykernel)",
   "language": "python",
   "name": "python3"
  },
  "language_info": {
   "codemirror_mode": {
    "name": "ipython",
    "version": 3
   },
   "file_extension": ".py",
   "mimetype": "text/x-python",
   "name": "python",
   "nbconvert_exporter": "python",
   "pygments_lexer": "ipython3",
   "version": "3.11.11"
  }
 },
 "nbformat": 4,
 "nbformat_minor": 5
}
