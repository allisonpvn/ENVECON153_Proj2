{
 "cells": [
  {
   "cell_type": "markdown",
   "id": "1cd11c6b-d8ef-4554-8387-d9673bdd973f",
   "metadata": {},
   "source": [
    "# **Project 2 Code and Visualizations**"
   ]
  },
  {
   "cell_type": "markdown",
   "id": "1c4b6758-c473-4e44-a33e-96385f941117",
   "metadata": {},
   "source": [
    " The following code provides the workflow, functions, analysis, and insights into Project 2 for group Justus von Liebig\n",
    "\n",
    "Project Members: Allison Nguyen, Emily Wu, Wendy Peng, Emma Azhan, Magaly Santos, Noah Mujica"
   ]
  },
  {
   "cell_type": "markdown",
   "id": "c91a8ea7-9b27-41c8-a8c2-62136a9312cb",
   "metadata": {},
   "source": [
    "# Table of Contents\n",
    "\n",
    "- **Data Setup**\n",
    "\n",
    "- **Deliverable [A] - Population of Interest**\n",
    "\n",
    "- **Deliverable [A] - Dietary Reference Intakes**\n",
    "\n",
    "- **Deliverable [A] - Food Prices**\n",
    "\n",
    "- **Deliverable [A] - Nutritional Content**\n",
    "\n",
    "- **Deliverable [A] - Solution**\n",
    "\n",
    "- **Deliverable [B] - Solution Sensitivity**\n",
    "\n",
    "- **Deliverable [B] - Solution Total Cost**\n",
    "\n",
    "- **Unit Tests**"
   ]
  },
  {
   "cell_type": "markdown",
   "id": "4669cfa9-470a-4ca9-9afd-f8635d255ee7",
   "metadata": {},
   "source": [
    "## Data Setup"
   ]
  },
  {
   "cell_type": "code",
   "execution_count": 15,
   "id": "cce99ac8-267b-416b-85eb-807e8f5f83dc",
   "metadata": {},
   "outputs": [
    {
     "name": "stdout",
     "output_type": "stream",
     "text": [
      "Collecting eep153_tools\n",
      "  Using cached eep153_tools-0.12.4-py2.py3-none-any.whl.metadata (363 bytes)\n",
      "Using cached eep153_tools-0.12.4-py2.py3-none-any.whl (4.9 kB)\n",
      "Installing collected packages: eep153_tools\n",
      "Successfully installed eep153_tools-0.12.4\n",
      "Note: you may need to restart the kernel to use updated packages.\n",
      "Collecting python_gnupg\n",
      "  Using cached python_gnupg-0.5.4-py2.py3-none-any.whl.metadata (2.0 kB)\n",
      "Using cached python_gnupg-0.5.4-py2.py3-none-any.whl (21 kB)\n",
      "Installing collected packages: python_gnupg\n",
      "Successfully installed python_gnupg-0.5.4\n",
      "Note: you may need to restart the kernel to use updated packages.\n",
      "Requirement already satisfied: gspread_pandas in /srv/conda/lib/python3.11/site-packages (2.2.3)\n",
      "Collecting gspread_pandas\n",
      "  Using cached gspread_pandas-3.3.0-py2.py3-none-any.whl.metadata (10 kB)\n",
      "Requirement already satisfied: gspread<6,>=5.0.0 in /srv/conda/lib/python3.11/site-packages (from gspread_pandas) (5.12.4)\n",
      "Requirement already satisfied: pandas>=0.20.0 in /srv/conda/lib/python3.11/site-packages (from gspread_pandas) (2.2.3)\n",
      "Requirement already satisfied: decorator in /srv/conda/lib/python3.11/site-packages (from gspread_pandas) (5.1.1)\n",
      "Requirement already satisfied: google-auth in /srv/conda/lib/python3.11/site-packages (from gspread_pandas) (2.38.0)\n",
      "Requirement already satisfied: google-auth-oauthlib in /srv/conda/lib/python3.11/site-packages (from gspread_pandas) (1.2.1)\n",
      "Requirement already satisfied: cachetools<6.0,>=2.0.0 in /srv/conda/lib/python3.11/site-packages (from google-auth->gspread_pandas) (5.5.1)\n",
      "Requirement already satisfied: pyasn1-modules>=0.2.1 in /srv/conda/lib/python3.11/site-packages (from google-auth->gspread_pandas) (0.4.1)\n",
      "Requirement already satisfied: rsa<5,>=3.1.4 in /srv/conda/lib/python3.11/site-packages (from google-auth->gspread_pandas) (4.9)\n",
      "Requirement already satisfied: requests-oauthlib>=0.7.0 in /srv/conda/lib/python3.11/site-packages (from google-auth-oauthlib->gspread_pandas) (2.0.0)\n",
      "Requirement already satisfied: numpy>=1.23.2 in /srv/conda/lib/python3.11/site-packages (from pandas>=0.20.0->gspread_pandas) (2.2.3)\n",
      "Requirement already satisfied: python-dateutil>=2.8.2 in /srv/conda/lib/python3.11/site-packages (from pandas>=0.20.0->gspread_pandas) (2.9.0.post0)\n",
      "Requirement already satisfied: pytz>=2020.1 in /srv/conda/lib/python3.11/site-packages (from pandas>=0.20.0->gspread_pandas) (2024.1)\n",
      "Requirement already satisfied: tzdata>=2022.7 in /srv/conda/lib/python3.11/site-packages (from pandas>=0.20.0->gspread_pandas) (2025.1)\n",
      "Requirement already satisfied: pyasn1<0.7.0,>=0.4.6 in /srv/conda/lib/python3.11/site-packages (from pyasn1-modules>=0.2.1->google-auth->gspread_pandas) (0.6.1)\n",
      "Requirement already satisfied: six>=1.5 in /srv/conda/lib/python3.11/site-packages (from python-dateutil>=2.8.2->pandas>=0.20.0->gspread_pandas) (1.17.0)\n",
      "Requirement already satisfied: oauthlib>=3.0.0 in /srv/conda/lib/python3.11/site-packages (from requests-oauthlib>=0.7.0->google-auth-oauthlib->gspread_pandas) (3.2.2)\n",
      "Requirement already satisfied: requests>=2.0.0 in /srv/conda/lib/python3.11/site-packages (from requests-oauthlib>=0.7.0->google-auth-oauthlib->gspread_pandas) (2.32.3)\n",
      "Requirement already satisfied: charset_normalizer<4,>=2 in /srv/conda/lib/python3.11/site-packages (from requests>=2.0.0->requests-oauthlib>=0.7.0->google-auth-oauthlib->gspread_pandas) (3.4.0)\n",
      "Requirement already satisfied: idna<4,>=2.5 in /srv/conda/lib/python3.11/site-packages (from requests>=2.0.0->requests-oauthlib>=0.7.0->google-auth-oauthlib->gspread_pandas) (3.10)\n",
      "Requirement already satisfied: urllib3<3,>=1.21.1 in /srv/conda/lib/python3.11/site-packages (from requests>=2.0.0->requests-oauthlib>=0.7.0->google-auth-oauthlib->gspread_pandas) (2.3.0)\n",
      "Requirement already satisfied: certifi>=2017.4.17 in /srv/conda/lib/python3.11/site-packages (from requests>=2.0.0->requests-oauthlib>=0.7.0->google-auth-oauthlib->gspread_pandas) (2024.12.14)\n",
      "Using cached gspread_pandas-3.3.0-py2.py3-none-any.whl (27 kB)\n",
      "Installing collected packages: gspread_pandas\n",
      "  Attempting uninstall: gspread_pandas\n",
      "    Found existing installation: gspread-pandas 2.2.3\n",
      "    Uninstalling gspread-pandas-2.2.3:\n",
      "      Successfully uninstalled gspread-pandas-2.2.3\n",
      "Successfully installed gspread_pandas-3.3.0\n",
      "Note: you may need to restart the kernel to use updated packages.\n"
     ]
    }
   ],
   "source": [
    "%pip install eep153_tools\n",
    "%pip install python_gnupg\n",
    "%pip install -U gspread_pandas"
   ]
  },
  {
   "cell_type": "code",
   "execution_count": 76,
   "id": "c390e869-ce89-4fab-94e6-d04f802ecb2a",
   "metadata": {},
   "outputs": [],
   "source": [
    "import numpy as np\n",
    "import pandas as pd\n",
    "from  scipy.optimize import linprog as lp\n",
    "from eep153_tools.sheets import read_sheets"
   ]
  },
  {
   "cell_type": "code",
   "execution_count": 197,
   "id": "a3c9afe6-bde3-46ed-a1ac-40a7b4e83985",
   "metadata": {},
   "outputs": [],
   "source": [
    "def format_id(id,zeropadding=0):\n",
    "    \"\"\"Nice string format for any id, string or numeric.\n",
    "\n",
    "    Optional zeropadding parameter takes an integer\n",
    "    formats as {id:0z} where\n",
    "    \"\"\"\n",
    "    if pd.isnull(id) or id in ['','.']: return None\n",
    "\n",
    "    try:  # If numeric, return as string int\n",
    "        return ('%d' % id).zfill(zeropadding)\n",
    "    except TypeError:  # Not numeric\n",
    "        return id.split('.')[0].strip().zfill(zeropadding)\n",
    "    except ValueError:\n",
    "        return None\n",
    "\n",
    "data_url = \"https://docs.google.com/spreadsheets/d/1qCxS3mh29miTIFQJ9IDs4cKUjgepZU37SbJO9v0_fOE/edit?gid=1569303630#gid=1569303630\""
   ]
  },
  {
   "cell_type": "code",
   "execution_count": 198,
   "id": "628dc018-c423-437f-819d-f8bc02d25456",
   "metadata": {},
   "outputs": [
    {
     "data": {
      "text/html": [
       "<div>\n",
       "<style scoped>\n",
       "    .dataframe tbody tr th:only-of-type {\n",
       "        vertical-align: middle;\n",
       "    }\n",
       "\n",
       "    .dataframe tbody tr th {\n",
       "        vertical-align: top;\n",
       "    }\n",
       "\n",
       "    .dataframe thead th {\n",
       "        text-align: right;\n",
       "    }\n",
       "</style>\n",
       "<table border=\"1\" class=\"dataframe\">\n",
       "  <thead>\n",
       "    <tr style=\"text-align: right;\">\n",
       "      <th></th>\n",
       "      <th>parent_foodcode</th>\n",
       "      <th>recipe</th>\n",
       "      <th>ingred_code</th>\n",
       "      <th>ingred_desc</th>\n",
       "      <th>ingred_wt</th>\n",
       "    </tr>\n",
       "  </thead>\n",
       "  <tbody>\n",
       "    <tr>\n",
       "      <th>0</th>\n",
       "      <td>11340000</td>\n",
       "      <td>Imitation milk, non-soy, sweetened</td>\n",
       "      <td>43543</td>\n",
       "      <td>Milk, imitation, non-soy</td>\n",
       "      <td>100.0</td>\n",
       "    </tr>\n",
       "    <tr>\n",
       "      <th>1</th>\n",
       "      <td>11460150</td>\n",
       "      <td>Yogurt, frozen, NS as to flavor, lowfat milk</td>\n",
       "      <td>1298</td>\n",
       "      <td>Yogurt, frozen, flavors other than chocolate, ...</td>\n",
       "      <td>100.0</td>\n",
       "    </tr>\n",
       "    <tr>\n",
       "      <th>2</th>\n",
       "      <td>11460160</td>\n",
       "      <td>Yogurt, frozen, chocolate, lowfat milk</td>\n",
       "      <td>1117</td>\n",
       "      <td>Yogurt, plain, low fat, 12 grams protein per 8...</td>\n",
       "      <td>81.8</td>\n",
       "    </tr>\n",
       "    <tr>\n",
       "      <th>3</th>\n",
       "      <td>11460160</td>\n",
       "      <td>Yogurt, frozen, chocolate, lowfat milk</td>\n",
       "      <td>19166</td>\n",
       "      <td>Cocoa, dry powder, unsweetened, processed with...</td>\n",
       "      <td>5.2</td>\n",
       "    </tr>\n",
       "    <tr>\n",
       "      <th>4</th>\n",
       "      <td>11460160</td>\n",
       "      <td>Yogurt, frozen, chocolate, lowfat milk</td>\n",
       "      <td>19335</td>\n",
       "      <td>Sugars, granulated</td>\n",
       "      <td>13.0</td>\n",
       "    </tr>\n",
       "  </tbody>\n",
       "</table>\n",
       "</div>"
      ],
      "text/plain": [
       "  parent_foodcode                                        recipe ingred_code  \\\n",
       "0        11340000            Imitation milk, non-soy, sweetened       43543   \n",
       "1        11460150  Yogurt, frozen, NS as to flavor, lowfat milk        1298   \n",
       "2        11460160        Yogurt, frozen, chocolate, lowfat milk        1117   \n",
       "3        11460160        Yogurt, frozen, chocolate, lowfat milk       19166   \n",
       "4        11460160        Yogurt, frozen, chocolate, lowfat milk       19335   \n",
       "\n",
       "                                         ingred_desc  ingred_wt  \n",
       "0                           Milk, imitation, non-soy      100.0  \n",
       "1  Yogurt, frozen, flavors other than chocolate, ...      100.0  \n",
       "2  Yogurt, plain, low fat, 12 grams protein per 8...       81.8  \n",
       "3  Cocoa, dry powder, unsweetened, processed with...        5.2  \n",
       "4                                 Sugars, granulated       13.0  "
      ]
     },
     "execution_count": 198,
     "metadata": {},
     "output_type": "execute_result"
    }
   ],
   "source": [
    "recipes = read_sheets(data_url, sheet=\"recipes\")\n",
    "recipes = (recipes\n",
    "           .assign(parent_foodcode = lambda df: df[\"parent_foodcode\"].apply(format_id),\n",
    "                   ingred_code = lambda df: df[\"ingred_code\"].apply(format_id))\n",
    "           .rename(columns={\"parent_desc\": \"recipe\"}))\n",
    "\n",
    "nutrition = (read_sheets(data_url, sheet=\"nutrients\")\n",
    "             .assign(ingred_code = lambda df: df[\"ingred_code\"].apply(format_id)))\n",
    "\n",
    "recipes.head()\n"
   ]
  },
  {
   "cell_type": "code",
   "execution_count": 199,
   "id": "e434447b-13f6-41cc-b801-1398fec3b569",
   "metadata": {},
   "outputs": [
    {
     "data": {
      "text/html": [
       "<div>\n",
       "<style scoped>\n",
       "    .dataframe tbody tr th:only-of-type {\n",
       "        vertical-align: middle;\n",
       "    }\n",
       "\n",
       "    .dataframe tbody tr th {\n",
       "        vertical-align: top;\n",
       "    }\n",
       "\n",
       "    .dataframe thead th {\n",
       "        text-align: right;\n",
       "    }\n",
       "</style>\n",
       "<table border=\"1\" class=\"dataframe\">\n",
       "  <thead>\n",
       "    <tr style=\"text-align: right;\">\n",
       "      <th></th>\n",
       "      <th>idex</th>\n",
       "      <th>parent_description</th>\n",
       "      <th>parent_foodcode</th>\n",
       "      <th>food group covered</th>\n",
       "      <th>nutrient group</th>\n",
       "    </tr>\n",
       "  </thead>\n",
       "  <tbody>\n",
       "    <tr>\n",
       "      <th>0</th>\n",
       "      <td>1</td>\n",
       "      <td>Bread, French or Vienna, whole wheat</td>\n",
       "      <td>51301540</td>\n",
       "      <td>Whole wheat bread</td>\n",
       "      <td>carbohydrates</td>\n",
       "    </tr>\n",
       "    <tr>\n",
       "      <th>1</th>\n",
       "      <td>2</td>\n",
       "      <td>Lasagna with meat, whole wheat noodles</td>\n",
       "      <td>58130610</td>\n",
       "      <td>Whole wheat pasta</td>\n",
       "      <td>carbohydrates</td>\n",
       "    </tr>\n",
       "    <tr>\n",
       "      <th>2</th>\n",
       "      <td>3</td>\n",
       "      <td>Oatmeal,  instant, plain, made with milk, fat ...</td>\n",
       "      <td>56203097</td>\n",
       "      <td>Oatmeal</td>\n",
       "      <td>carbohydrates</td>\n",
       "    </tr>\n",
       "    <tr>\n",
       "      <th>3</th>\n",
       "      <td>4</td>\n",
       "      <td>Pinto beans and brown rice</td>\n",
       "      <td>58161323</td>\n",
       "      <td>Brownrice</td>\n",
       "      <td>carbohydrates</td>\n",
       "    </tr>\n",
       "    <tr>\n",
       "      <th>4</th>\n",
       "      <td>5</td>\n",
       "      <td>Cheeseburger, 1 medium patty, with condiments,...</td>\n",
       "      <td>27510253</td>\n",
       "      <td>Whole wheat bread</td>\n",
       "      <td>carbohydrates</td>\n",
       "    </tr>\n",
       "  </tbody>\n",
       "</table>\n",
       "</div>"
      ],
      "text/plain": [
       "   idex                                 parent_description  parent_foodcode  \\\n",
       "0      1               Bread, French or Vienna, whole wheat        51301540   \n",
       "1      2             Lasagna with meat, whole wheat noodles        58130610   \n",
       "2      3  Oatmeal,  instant, plain, made with milk, fat ...        56203097   \n",
       "3      4                         Pinto beans and brown rice        58161323   \n",
       "4      5  Cheeseburger, 1 medium patty, with condiments,...        27510253   \n",
       "\n",
       "  food group covered  nutrient group  \n",
       "0   Whole wheat bread  carbohydrates  \n",
       "1   Whole wheat pasta  carbohydrates  \n",
       "2             Oatmeal  carbohydrates  \n",
       "3           Brownrice  carbohydrates  \n",
       "4   Whole wheat bread  carbohydrates  "
      ]
     },
     "execution_count": 199,
     "metadata": {},
     "output_type": "execute_result"
    }
   ],
   "source": [
    "# Control and Cancer Diets\n",
    "control_diet = read_sheets(data_url, sheet=\"control diet\")\n",
    "cancer_diet = read_sheets(data_url, sheet=\"cancer diet\")\n",
    "\n",
    "control_diet[\"parent_foodcode\"] = control_diet[\"parent_foodcode\"].astype(str)\n",
    "cancer_diet[\"parent_foodcode\"] = cancer_diet[\"parent_foodcode\"].astype(str)\n",
    "recipes[\"parent_foodcode\"] = recipes[\"parent_foodcode\"].astype(str)\n",
    "\n",
    "\n",
    "control_diet_df = recipes[recipes[\"parent_foodcode\"].isin(control_diet[\"parent_foodcode\"])]\n",
    "cancer_diet_df = recipes[recipes[\"parent_foodcode\"].isin(cancer_diet[\"parent_foodcode\"])]\n",
    "\n",
    "\n",
    "cancer_diet.head()"
   ]
  },
  {
   "cell_type": "code",
   "execution_count": 200,
   "id": "8b3d0f52-79bb-4d5d-ad15-3032ce5500ef",
   "metadata": {},
   "outputs": [
    {
     "data": {
      "text/html": [
       "<div>\n",
       "<style scoped>\n",
       "    .dataframe tbody tr th:only-of-type {\n",
       "        vertical-align: middle;\n",
       "    }\n",
       "\n",
       "    .dataframe tbody tr th {\n",
       "        vertical-align: top;\n",
       "    }\n",
       "\n",
       "    .dataframe thead th {\n",
       "        text-align: right;\n",
       "    }\n",
       "</style>\n",
       "<table border=\"1\" class=\"dataframe\">\n",
       "  <thead>\n",
       "    <tr style=\"text-align: right;\">\n",
       "      <th></th>\n",
       "      <th>ingred_code</th>\n",
       "      <th>Ingredient description</th>\n",
       "      <th>Capric acid</th>\n",
       "      <th>Lauric acid</th>\n",
       "      <th>Myristic acid</th>\n",
       "      <th>Palmitic acid</th>\n",
       "      <th>Palmitoleic acid</th>\n",
       "      <th>Stearic acid</th>\n",
       "      <th>Oleic acid</th>\n",
       "      <th>Linoleic Acid</th>\n",
       "      <th>...</th>\n",
       "      <th>Vitamin B12</th>\n",
       "      <th>Vitamin B-12, added</th>\n",
       "      <th>Vitamin B6</th>\n",
       "      <th>Vitamin C</th>\n",
       "      <th>Vitamin D</th>\n",
       "      <th>Vitamin E</th>\n",
       "      <th>Vitamin E, added</th>\n",
       "      <th>Vitamin K</th>\n",
       "      <th>Water</th>\n",
       "      <th>Zinc</th>\n",
       "    </tr>\n",
       "  </thead>\n",
       "  <tbody>\n",
       "    <tr>\n",
       "      <th>0</th>\n",
       "      <td>1001</td>\n",
       "      <td>Butter, salted</td>\n",
       "      <td>2.529</td>\n",
       "      <td>2.587</td>\n",
       "      <td>7.436</td>\n",
       "      <td>21.697</td>\n",
       "      <td>0.961</td>\n",
       "      <td>9.999</td>\n",
       "      <td>19.961</td>\n",
       "      <td>2.728</td>\n",
       "      <td>...</td>\n",
       "      <td>0.17</td>\n",
       "      <td>0.0</td>\n",
       "      <td>0.003</td>\n",
       "      <td>0.0</td>\n",
       "      <td>0.0</td>\n",
       "      <td>2.32</td>\n",
       "      <td>0.0</td>\n",
       "      <td>7.0</td>\n",
       "      <td>15.87</td>\n",
       "      <td>0.09</td>\n",
       "    </tr>\n",
       "    <tr>\n",
       "      <th>1</th>\n",
       "      <td>1002</td>\n",
       "      <td>Butter, whipped, with salt</td>\n",
       "      <td>2.039</td>\n",
       "      <td>2.354</td>\n",
       "      <td>7.515</td>\n",
       "      <td>20.531</td>\n",
       "      <td>1.417</td>\n",
       "      <td>7.649</td>\n",
       "      <td>17.370</td>\n",
       "      <td>2.713</td>\n",
       "      <td>...</td>\n",
       "      <td>0.07</td>\n",
       "      <td>0.0</td>\n",
       "      <td>0.008</td>\n",
       "      <td>0.0</td>\n",
       "      <td>0.0</td>\n",
       "      <td>1.37</td>\n",
       "      <td>0.0</td>\n",
       "      <td>4.6</td>\n",
       "      <td>16.72</td>\n",
       "      <td>0.05</td>\n",
       "    </tr>\n",
       "    <tr>\n",
       "      <th>2</th>\n",
       "      <td>1003</td>\n",
       "      <td>Butter oil, anhydrous</td>\n",
       "      <td>2.495</td>\n",
       "      <td>2.793</td>\n",
       "      <td>10.005</td>\n",
       "      <td>26.166</td>\n",
       "      <td>2.228</td>\n",
       "      <td>12.056</td>\n",
       "      <td>25.026</td>\n",
       "      <td>2.247</td>\n",
       "      <td>...</td>\n",
       "      <td>0.01</td>\n",
       "      <td>0.0</td>\n",
       "      <td>0.001</td>\n",
       "      <td>0.0</td>\n",
       "      <td>0.0</td>\n",
       "      <td>2.80</td>\n",
       "      <td>0.0</td>\n",
       "      <td>8.6</td>\n",
       "      <td>0.24</td>\n",
       "      <td>0.01</td>\n",
       "    </tr>\n",
       "    <tr>\n",
       "      <th>3</th>\n",
       "      <td>1004</td>\n",
       "      <td>Cheese, blue</td>\n",
       "      <td>0.601</td>\n",
       "      <td>0.491</td>\n",
       "      <td>3.301</td>\n",
       "      <td>9.153</td>\n",
       "      <td>0.816</td>\n",
       "      <td>3.235</td>\n",
       "      <td>6.622</td>\n",
       "      <td>0.536</td>\n",
       "      <td>...</td>\n",
       "      <td>1.22</td>\n",
       "      <td>0.0</td>\n",
       "      <td>0.166</td>\n",
       "      <td>0.0</td>\n",
       "      <td>0.5</td>\n",
       "      <td>0.25</td>\n",
       "      <td>0.0</td>\n",
       "      <td>2.4</td>\n",
       "      <td>42.41</td>\n",
       "      <td>2.66</td>\n",
       "    </tr>\n",
       "    <tr>\n",
       "      <th>4</th>\n",
       "      <td>1005</td>\n",
       "      <td>Cheese, brick</td>\n",
       "      <td>0.585</td>\n",
       "      <td>0.482</td>\n",
       "      <td>3.227</td>\n",
       "      <td>8.655</td>\n",
       "      <td>0.817</td>\n",
       "      <td>3.455</td>\n",
       "      <td>7.401</td>\n",
       "      <td>0.491</td>\n",
       "      <td>...</td>\n",
       "      <td>1.26</td>\n",
       "      <td>0.0</td>\n",
       "      <td>0.065</td>\n",
       "      <td>0.0</td>\n",
       "      <td>0.5</td>\n",
       "      <td>0.26</td>\n",
       "      <td>0.0</td>\n",
       "      <td>2.5</td>\n",
       "      <td>41.11</td>\n",
       "      <td>2.60</td>\n",
       "    </tr>\n",
       "  </tbody>\n",
       "</table>\n",
       "<p>5 rows × 67 columns</p>\n",
       "</div>"
      ],
      "text/plain": [
       "  ingred_code      Ingredient description  Capric acid  Lauric acid  \\\n",
       "0        1001              Butter, salted        2.529        2.587   \n",
       "1        1002  Butter, whipped, with salt        2.039        2.354   \n",
       "2        1003       Butter oil, anhydrous        2.495        2.793   \n",
       "3        1004                Cheese, blue        0.601        0.491   \n",
       "4        1005               Cheese, brick        0.585        0.482   \n",
       "\n",
       "   Myristic acid  Palmitic acid  Palmitoleic acid  Stearic acid  Oleic acid  \\\n",
       "0          7.436         21.697             0.961         9.999      19.961   \n",
       "1          7.515         20.531             1.417         7.649      17.370   \n",
       "2         10.005         26.166             2.228        12.056      25.026   \n",
       "3          3.301          9.153             0.816         3.235       6.622   \n",
       "4          3.227          8.655             0.817         3.455       7.401   \n",
       "\n",
       "   Linoleic Acid  ...  Vitamin B12  Vitamin B-12, added  Vitamin B6  \\\n",
       "0          2.728  ...         0.17                  0.0       0.003   \n",
       "1          2.713  ...         0.07                  0.0       0.008   \n",
       "2          2.247  ...         0.01                  0.0       0.001   \n",
       "3          0.536  ...         1.22                  0.0       0.166   \n",
       "4          0.491  ...         1.26                  0.0       0.065   \n",
       "\n",
       "   Vitamin C  Vitamin D  Vitamin E  Vitamin E, added  Vitamin K  Water  Zinc  \n",
       "0        0.0        0.0       2.32               0.0        7.0  15.87  0.09  \n",
       "1        0.0        0.0       1.37               0.0        4.6  16.72  0.05  \n",
       "2        0.0        0.0       2.80               0.0        8.6   0.24  0.01  \n",
       "3        0.0        0.5       0.25               0.0        2.4  42.41  2.66  \n",
       "4        0.0        0.5       0.26               0.0        2.5  41.11  2.60  \n",
       "\n",
       "[5 rows x 67 columns]"
      ]
     },
     "metadata": {},
     "output_type": "display_data"
    }
   ],
   "source": [
    "display(nutrition.head())"
   ]
  },
  {
   "cell_type": "markdown",
   "id": "9009c6a4-12e2-4ad1-a244-38939506b694",
   "metadata": {},
   "source": [
    "**Deliverable [A] - Population of Interest**\n"
   ]
  },
  {
   "cell_type": "markdown",
   "id": "cf005037-ed1c-4aba-9e64-dbda81de0a75",
   "metadata": {},
   "source": [
    "The primary population of interest we hope to analyse is breast cancer, colorectal cancer and leukemia patients in the United States aged 50 and up, standardising across sex and racial demographics. We aim to standardise the ideal diet for each of these cancer types prescribed to patients, extrapolating from macronutrient recommendations to get a best-estimation of a generic patient diet. To create a baseline of comparison for each of these three test groups, we hope to utilise the average American dietary information as a control. This will consist of the best-estimated diet of the average American aged 50 and up, simplifying across sex and race. By comparing these three test groups against the control, we hope to derive meaningful conclusions about the difference in the minimum-cost diets for cancer patients compared to those without cancer."
   ]
  },
  {
   "cell_type": "markdown",
   "id": "f555e31e-c1d0-4cee-b9e3-4c202ccec3c4",
   "metadata": {},
   "source": [
    "**Deliverable [A] - Dietary Reference Intakes**\n",
    "\n",
    "Write a function that takes as arguments the characteristics of a person (e.g., age, sex) and returns a `pandas.Series' of Dietary Reference Intakes (DRI's) or \"Recommended Daily Allowances\" (RDA) of a variety of nutrients appropriate for your population of interest."
   ]
  },
  {
   "cell_type": "code",
   "execution_count": 201,
   "id": "128925ed-a981-44d5-bafd-40d73b255533",
   "metadata": {},
   "outputs": [],
   "source": [
    "rda = read_sheets(data_url, sheet=\"rda\")\n",
    "rda = rda.set_index(\"Nutrient\")\n",
    "#rda.columns, rda.head()"
   ]
  },
  {
   "cell_type": "code",
   "execution_count": 202,
   "id": "9c6e4ed1-7be2-4fb0-80f1-303e879916d7",
   "metadata": {},
   "outputs": [],
   "source": [
    "def diet_ref(sex, cancer_group='control', age_group=\"51U\"):\n",
    "    \n",
    "    col_name = f\"{sex}_{age_group}_{cancer_group}\"\n",
    "\n",
    "    if col_name not in rda.columns:\n",
    "        raise ValueError(f\"Column '{col_name}' not found in the dataset.\")\n",
    "\n",
    "    return rda[col_name]\n",
    "        "
   ]
  },
  {
   "cell_type": "code",
   "execution_count": 203,
   "id": "28871bde-a0f7-4d6b-bc18-7ec6bbd36a41",
   "metadata": {},
   "outputs": [
    {
     "data": {
      "text/plain": [
       "Nutrient\n",
       "Energy            1800.0\n",
       "Protein             80.0\n",
       "Carbohydrate       225.0\n",
       "Dietary Fiber       22.4\n",
       "Linoleic Acid       11.0\n",
       "Linolenic Acid       3.1\n",
       "Calcium           1200.0\n",
       "Iron                15.0\n",
       "Magnesium          320.0\n",
       "Phosphorus         700.0\n",
       "Potassium         4700.0\n",
       "Sodium            2300.0\n",
       "Zinc                 8.0\n",
       "Copper               0.9\n",
       "Selenium            55.0\n",
       "Vitamin A          700.0\n",
       "Vitamin E           15.0\n",
       "Vitamin D           60.0\n",
       "Vitamin C           75.0\n",
       "Thiamin              1.1\n",
       "Riboflavin           1.1\n",
       "Niacin              14.0\n",
       "Vitamin B6           1.5\n",
       "Vitamin B12          2.4\n",
       "Choline            425.0\n",
       "Vitamin K           90.0\n",
       "Folate             400.0\n",
       "Name: Female_51U_leukemia, dtype: float64"
      ]
     },
     "execution_count": 203,
     "metadata": {},
     "output_type": "execute_result"
    }
   ],
   "source": [
    "diet_ref(\"Female\", cancer_group=\"leukemia\")"
   ]
  },
  {
   "cell_type": "markdown",
   "id": "d71680b3-d447-407c-9807-bbdeba9d0f43",
   "metadata": {},
   "source": [
    "**[A] Data on prices for different foods**\n",
    "\n"
   ]
  },
  {
   "cell_type": "code",
   "execution_count": 204,
   "id": "46971ac6-f69a-4f52-b5d6-0263d29e0d00",
   "metadata": {},
   "outputs": [
    {
     "name": "stdout",
     "output_type": "stream",
     "text": [
      "We have prices for 4435 unique recipes (FNDDS food codes)\n"
     ]
    }
   ],
   "source": [
    "prices = read_sheets(data_url, sheet=\"prices\")[[\"food_code\", \"year\", \"price\"]]\n",
    "\n",
    "prices[\"food_code\"] = prices[\"food_code\"].apply(format_id)\n",
    "\n",
    "prices = prices.set_index([\"year\", \"food_code\"])\n",
    "#print(prices.index.levels[0])\n",
    "\n",
    "# we'll focus on the latest price data\n",
    "prices = prices.xs(\"2017/2018\", level=\"year\")\n",
    "\n",
    "# drop rows of prices where the price is \"NA\"\n",
    "prices = prices.dropna(subset=\"price\")\n",
    "\n",
    "print(f\"We have prices for {prices.shape[0]} unique recipes (FNDDS food codes)\")"
   ]
  },
  {
   "cell_type": "code",
   "execution_count": 205,
   "id": "5c4f9d5e-22df-4db9-8021-75640a8b8848",
   "metadata": {},
   "outputs": [
    {
     "data": {
      "text/html": [
       "<div>\n",
       "<style scoped>\n",
       "    .dataframe tbody tr th:only-of-type {\n",
       "        vertical-align: middle;\n",
       "    }\n",
       "\n",
       "    .dataframe tbody tr th {\n",
       "        vertical-align: top;\n",
       "    }\n",
       "\n",
       "    .dataframe thead th {\n",
       "        text-align: right;\n",
       "    }\n",
       "</style>\n",
       "<table border=\"1\" class=\"dataframe\">\n",
       "  <thead>\n",
       "    <tr style=\"text-align: right;\">\n",
       "      <th></th>\n",
       "      <th>price</th>\n",
       "    </tr>\n",
       "    <tr>\n",
       "      <th>food_code</th>\n",
       "      <th></th>\n",
       "    </tr>\n",
       "  </thead>\n",
       "  <tbody>\n",
       "    <tr>\n",
       "      <th>11100000</th>\n",
       "      <td>0.100484</td>\n",
       "    </tr>\n",
       "    <tr>\n",
       "      <th>11111000</th>\n",
       "      <td>0.09828</td>\n",
       "    </tr>\n",
       "    <tr>\n",
       "      <th>11112110</th>\n",
       "      <td>0.092085</td>\n",
       "    </tr>\n",
       "    <tr>\n",
       "      <th>11112210</th>\n",
       "      <td>0.090914</td>\n",
       "    </tr>\n",
       "    <tr>\n",
       "      <th>11113000</th>\n",
       "      <td>0.092441</td>\n",
       "    </tr>\n",
       "    <tr>\n",
       "      <th>...</th>\n",
       "      <td>...</td>\n",
       "    </tr>\n",
       "    <tr>\n",
       "      <th>95320200</th>\n",
       "      <td>0.120958</td>\n",
       "    </tr>\n",
       "    <tr>\n",
       "      <th>95320500</th>\n",
       "      <td>0.091942</td>\n",
       "    </tr>\n",
       "    <tr>\n",
       "      <th>95322200</th>\n",
       "      <td>0.114084</td>\n",
       "    </tr>\n",
       "    <tr>\n",
       "      <th>95322500</th>\n",
       "      <td>0.089002</td>\n",
       "    </tr>\n",
       "    <tr>\n",
       "      <th>95330100</th>\n",
       "      <td>0.500831</td>\n",
       "    </tr>\n",
       "  </tbody>\n",
       "</table>\n",
       "<p>4435 rows × 1 columns</p>\n",
       "</div>"
      ],
      "text/plain": [
       "              price\n",
       "food_code          \n",
       "11100000   0.100484\n",
       "11111000    0.09828\n",
       "11112110   0.092085\n",
       "11112210   0.090914\n",
       "11113000   0.092441\n",
       "...             ...\n",
       "95320200   0.120958\n",
       "95320500   0.091942\n",
       "95322200   0.114084\n",
       "95322500   0.089002\n",
       "95330100   0.500831\n",
       "\n",
       "[4435 rows x 1 columns]"
      ]
     },
     "execution_count": 205,
     "metadata": {},
     "output_type": "execute_result"
    }
   ],
   "source": [
    "prices"
   ]
  },
  {
   "cell_type": "code",
   "execution_count": 206,
   "id": "a85caaec-c86c-4c98-b8e1-4400857d3efc",
   "metadata": {},
   "outputs": [],
   "source": [
    "def process_diet_data(diet_df, nutrition_df, prices_df):\n",
    "\n",
    "    # Normalize weights to percentage terms\n",
    "    diet_df[\"ingred_wt\"] = diet_df[\"ingred_wt\"] / diet_df.groupby(\"parent_foodcode\")[\"ingred_wt\"].transform(\"sum\")\n",
    "\n",
    "    # Merge with nutrition data to get nutrient profiles\n",
    "    df = diet_df.merge(nutrition_df, how=\"left\", on=\"ingred_code\")\n",
    "\n",
    "    # Multiply nutrients per 100g by the weight of that ingredient\n",
    "    numeric_cols = list(df.select_dtypes(include=[\"number\"]).columns)\n",
    "    numeric_cols.remove(\"ingred_wt\")\n",
    "    df[numeric_cols] = df[numeric_cols].mul(df[\"ingred_wt\"], axis=0)\n",
    "\n",
    "    # Sum nutrients at the parent foodcode level\n",
    "    df = df.groupby(\"parent_foodcode\").agg({**{col: \"sum\" for col in numeric_cols}, \"recipe\": \"first\"})\n",
    "\n",
    "    # Rename index for clarity\n",
    "    df.index.name = \"recipe_id\"\n",
    "\n",
    "    # Extract food names\n",
    "    food_names = df[\"recipe\"]\n",
    "\n",
    "    # Align recipes and prices based on common indices\n",
    "    common_recipes = df.index.intersection(prices_df.index)\n",
    "    df = df.loc[common_recipes]\n",
    "    prices = prices_df.loc[common_recipes]\n",
    "\n",
    "    # Rename prices index with actual food names\n",
    "    prices.index = prices.index.map(food_names)\n",
    "\n",
    "    # Transpose the final nutrient table\n",
    "    A_all = df.T\n",
    "\n",
    "    return df, prices, A_all\n"
   ]
  },
  {
   "cell_type": "code",
   "execution_count": 207,
   "id": "6db294fc-7187-40dc-b685-975e3049c978",
   "metadata": {},
   "outputs": [
    {
     "name": "stderr",
     "output_type": "stream",
     "text": [
      "/tmp/ipykernel_68/1679704066.py:4: SettingWithCopyWarning: \n",
      "A value is trying to be set on a copy of a slice from a DataFrame.\n",
      "Try using .loc[row_indexer,col_indexer] = value instead\n",
      "\n",
      "See the caveats in the documentation: https://pandas.pydata.org/pandas-docs/stable/user_guide/indexing.html#returning-a-view-versus-a-copy\n",
      "  diet_df[\"ingred_wt\"] = diet_df[\"ingred_wt\"] / diet_df.groupby(\"parent_foodcode\")[\"ingred_wt\"].transform(\"sum\")\n",
      "/tmp/ipykernel_68/1679704066.py:4: SettingWithCopyWarning: \n",
      "A value is trying to be set on a copy of a slice from a DataFrame.\n",
      "Try using .loc[row_indexer,col_indexer] = value instead\n",
      "\n",
      "See the caveats in the documentation: https://pandas.pydata.org/pandas-docs/stable/user_guide/indexing.html#returning-a-view-versus-a-copy\n",
      "  diet_df[\"ingred_wt\"] = diet_df[\"ingred_wt\"] / diet_df.groupby(\"parent_foodcode\")[\"ingred_wt\"].transform(\"sum\")\n"
     ]
    }
   ],
   "source": [
    "# Process recipes diet\n",
    "recipes_df, recipes_prices, recipes_A_all = process_diet_data(recipes, nutrition, prices)\n",
    "\n",
    "# Process control diet\n",
    "control_df, control_prices, control_A_all = process_diet_data(control_diet_df, nutrition, prices)\n",
    "\n",
    "# Process cancer diet\n",
    "cancer_df, cancer_prices, cancer_A_all = process_diet_data(cancer_diet_df, nutrition, prices)"
   ]
  },
  {
   "cell_type": "code",
   "execution_count": 208,
   "id": "1c1cf73c-afc0-4098-8448-ecf2d3c10aa8",
   "metadata": {},
   "outputs": [],
   "source": [
    "tol = 1e-6\n",
    "def min_cost(sex, cancer_group, age_group=\"51U\", A_all=cancer_A_all, p=cancer_prices):\n",
    "    \n",
    "    col_name = f\"{sex}_{age_group}_{cancer_group}\"\n",
    "    #print(col_name)\n",
    "    if cancer_group == \" control\":\n",
    "        A_all = control_A_all\n",
    "        p = control_prices\n",
    "\n",
    "    # create lower bounds and upper bounds.\n",
    "    bmin = rda.loc[rda['Constraint Type'].isin(['RDA', 'AI']), col_name]\n",
    "    bmax = rda.loc[rda['Constraint Type'].isin(['UL']), col_name]\n",
    "    \n",
    "    # reindex ensures we only keep nutrients in bmin/bmax\n",
    "    Amin = A_all.reindex(bmin.index).dropna(how='all')\n",
    "    Amax = A_all.reindex(bmax.index).dropna(how='all')\n",
    "    \n",
    "    b = pd.concat([bmin, -bmax])\n",
    "    A = pd.concat([Amin, -Amax])\n",
    "\n",
    "    #print(f\"{bmin.shape=}\")\n",
    "    #print(f\"{Amin.shape=}\")\n",
    "    #print(f\"{bmax.shape=}\")\n",
    "    #print(f\"{Amax.shape=}\")\n",
    "    #print(f\"{b.shape=}\")\n",
    "    #print(f\"{A.shape=}\")\n",
    "    #print(f\"{prices.shape=}\")\n",
    "\n",
    "    tol = 0.01 #1e-6 # Numbers in solution smaller than this (in absolute value) treated as zeros\n",
    "    result = lp(p, -A, -b, method='highs')\n",
    "    #print(result)\n",
    "    print(f\"Cost of diet for {col_name} is ${result.fun:.2f} per day.\")\n",
    "\n",
    "    return result"
   ]
  },
  {
   "cell_type": "code",
   "execution_count": 209,
   "id": "8c4c6395-b706-49b5-9f18-27a549804f71",
   "metadata": {},
   "outputs": [
    {
     "name": "stdout",
     "output_type": "stream",
     "text": [
      "Cost of diet for Female_51U_colon is $5.10 per day.\n"
     ]
    }
   ],
   "source": [
    "#Example\n",
    "result_example = min_cost(\"Female\", cancer_group='colon', age_group=\"51U\")"
   ]
  },
  {
   "cell_type": "markdown",
   "id": "4cbb5e9f-9de8-4690-9df3-1875cbfa26bf",
   "metadata": {},
   "source": [
    "***Is our solution edible?***"
   ]
  },
  {
   "cell_type": "code",
   "execution_count": 210,
   "id": "4feb88df-0184-43d5-bea6-a06c646ba1e6",
   "metadata": {},
   "outputs": [
    {
     "name": "stdout",
     "output_type": "stream",
     "text": [
      "\n",
      "You'll be eating (in 100s of grams or milliliters):\n",
      "Milk, low fat (1%)                                                                        19.48\n",
      "Edamame, cooked                                                                            0.15\n",
      "Sunflower seeds, plain, unsalted                                                           0.45\n",
      "Flax seeds                                                                                 1.14\n",
      "Sweet potato, baked, peel eaten, no added fat                                              3.49\n",
      "Lettuce, salad with assorted vegetables including tomatoes and/or carrots, no dressing     0.66\n",
      "dtype: float64\n"
     ]
    }
   ],
   "source": [
    "diet = pd.Series(result_example.x,index=cancer_prices.index)\n",
    "\n",
    "print(\"\\nYou'll be eating (in 100s of grams or milliliters):\")\n",
    "print(round(diet[diet >= tol], 2))"
   ]
  },
  {
   "cell_type": "markdown",
   "id": "3f6172a7-c754-4e8b-9f8f-5edae7eda8af",
   "metadata": {},
   "source": [
    "***Control Diets***"
   ]
  },
  {
   "cell_type": "code",
   "execution_count": 211,
   "id": "4b74339f-6055-46b9-919d-f920d0d218cb",
   "metadata": {},
   "outputs": [
    {
     "name": "stdout",
     "output_type": "stream",
     "text": [
      "Cost of diet for Male_51U_control is $5.49 per day.\n"
     ]
    }
   ],
   "source": [
    "control_male = min_cost(\"Male\", cancer_group='control', age_group=\"51U\")"
   ]
  },
  {
   "cell_type": "code",
   "execution_count": 212,
   "id": "bea85c56-1b7a-46a6-b109-7d30f5a54e8e",
   "metadata": {},
   "outputs": [
    {
     "name": "stdout",
     "output_type": "stream",
     "text": [
      "Cost of diet for Female_51U_control is $4.49 per day.\n"
     ]
    }
   ],
   "source": [
    "control_female = min_cost(\"Female\", cancer_group='control', age_group=\"51U\")"
   ]
  },
  {
   "cell_type": "markdown",
   "id": "b7344670-a987-447c-8d24-79a7f6abef1e",
   "metadata": {},
   "source": [
    "***Colon Cancer Diets***"
   ]
  },
  {
   "cell_type": "code",
   "execution_count": 213,
   "id": "cfb10fcb-f1f2-41a3-aece-c07187ed9f51",
   "metadata": {},
   "outputs": [
    {
     "name": "stdout",
     "output_type": "stream",
     "text": [
      "Cost of diet for Male_51U_colon is $5.76 per day.\n"
     ]
    }
   ],
   "source": [
    "colon_male = min_cost(\"Male\", cancer_group='colon', age_group=\"51U\")"
   ]
  },
  {
   "cell_type": "code",
   "execution_count": 214,
   "id": "c271f21c-27a2-41b9-92e4-f112c61076f7",
   "metadata": {},
   "outputs": [
    {
     "name": "stdout",
     "output_type": "stream",
     "text": [
      "Cost of diet for Female_51U_colon is $5.10 per day.\n"
     ]
    }
   ],
   "source": [
    "colon_female = min_cost(\"Female\", cancer_group='colon', age_group=\"51U\")"
   ]
  },
  {
   "cell_type": "markdown",
   "id": "407ea17f-49e8-4a92-8f0d-520dffd09641",
   "metadata": {},
   "source": [
    "***Breast Cancer Diets***\n"
   ]
  },
  {
   "cell_type": "code",
   "execution_count": 215,
   "id": "d63da3f1-e8e6-4086-b926-9b4a64d20a1a",
   "metadata": {},
   "outputs": [
    {
     "name": "stdout",
     "output_type": "stream",
     "text": [
      "Cost of diet for Male_51U_breast is $5.62 per day.\n"
     ]
    }
   ],
   "source": [
    "breast_male = min_cost(\"Male\", cancer_group='breast', age_group=\"51U\")"
   ]
  },
  {
   "cell_type": "code",
   "execution_count": 216,
   "id": "a11ef476-3f94-458c-9f58-6ea1fca577b6",
   "metadata": {},
   "outputs": [
    {
     "name": "stdout",
     "output_type": "stream",
     "text": [
      "Cost of diet for Female_51U_colon is $5.10 per day.\n"
     ]
    }
   ],
   "source": [
    "breast_female = min_cost(\"Female\", cancer_group='colon', age_group=\"51U\")"
   ]
  },
  {
   "cell_type": "markdown",
   "id": "91689336-4661-4057-9f18-a48d83c1407e",
   "metadata": {},
   "source": [
    "***Leukemia Cancer Diets***"
   ]
  },
  {
   "cell_type": "code",
   "execution_count": 217,
   "id": "d6403f50-2785-4068-b49e-e27fb1f56f38",
   "metadata": {},
   "outputs": [
    {
     "name": "stdout",
     "output_type": "stream",
     "text": [
      "Cost of diet for Male_51U_leukemia is $12.91 per day.\n"
     ]
    }
   ],
   "source": [
    "leukemia_male = min_cost(\"Male\", cancer_group='leukemia', age_group=\"51U\")"
   ]
  },
  {
   "cell_type": "code",
   "execution_count": 218,
   "id": "144ceddb-f8fb-4595-8d18-119f4e59d229",
   "metadata": {},
   "outputs": [
    {
     "name": "stdout",
     "output_type": "stream",
     "text": [
      "Cost of diet for Female_51U_leukemia is $11.72 per day.\n"
     ]
    }
   ],
   "source": [
    "leukemia_female = min_cost(\"Female\", cancer_group='leukemia', age_group=\"51U\")"
   ]
  },
  {
   "cell_type": "code",
   "execution_count": 220,
   "id": "a9311205-d10f-456a-8451-a3cf4a0276bd",
   "metadata": {},
   "outputs": [
    {
     "name": "stdout",
     "output_type": "stream",
     "text": [
      "\n",
      "You'll be eating (in 100s of grams or milliliters):\n",
      "Milk, low fat (1%)                                                                        19.48\n",
      "Edamame, cooked                                                                            0.15\n",
      "Sunflower seeds, plain, unsalted                                                           0.45\n",
      "Flax seeds                                                                                 1.14\n",
      "Sweet potato, baked, peel eaten, no added fat                                              3.49\n",
      "Lettuce, salad with assorted vegetables including tomatoes and/or carrots, no dressing     0.66\n",
      "dtype: float64\n"
     ]
    }
   ],
   "source": [
    "leu_diet = pd.Series(leukemia_female.x,index=cancer_prices.index)\n",
    "\n",
    "print(\"\\nYou'll be eating (in 100s of grams or milliliters):\")\n",
    "print(round(diet[diet >= tol], 2))"
   ]
  },
  {
   "cell_type": "code",
   "execution_count": null,
   "id": "f00387ac-6c55-4b50-ad65-8dfe36d8130d",
   "metadata": {},
   "outputs": [],
   "source": []
  },
  {
   "cell_type": "code",
   "execution_count": null,
   "id": "72dd3e56-9d46-4708-8877-29fadeabb27d",
   "metadata": {},
   "outputs": [],
   "source": []
  }
 ],
 "metadata": {
  "kernelspec": {
   "display_name": "Python 3 (ipykernel)",
   "language": "python",
   "name": "python3"
  },
  "language_info": {
   "codemirror_mode": {
    "name": "ipython",
    "version": 3
   },
   "file_extension": ".py",
   "mimetype": "text/x-python",
   "name": "python",
   "nbconvert_exporter": "python",
   "pygments_lexer": "ipython3",
   "version": "3.11.11"
  }
 },
 "nbformat": 4,
 "nbformat_minor": 5
}
